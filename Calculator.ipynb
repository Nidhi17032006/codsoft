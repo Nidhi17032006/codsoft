{
  "nbformat": 4,
  "nbformat_minor": 0,
  "metadata": {
    "colab": {
      "provenance": [],
      "authorship_tag": "ABX9TyOtfFwUq4KEtA+M5e6rWp59",
      "include_colab_link": true
    },
    "kernelspec": {
      "name": "python3",
      "display_name": "Python 3"
    },
    "language_info": {
      "name": "python"
    }
  },
  "cells": [
    {
      "cell_type": "markdown",
      "metadata": {
        "id": "view-in-github",
        "colab_type": "text"
      },
      "source": [
        "<a href=\"https://colab.research.google.com/github/Nidhi17032006/codsoft/blob/main/Calculator.ipynb\" target=\"_parent\"><img src=\"https://colab.research.google.com/assets/colab-badge.svg\" alt=\"Open In Colab\"/></a>"
      ]
    },
    {
      "cell_type": "markdown",
      "source": [
        "# Task 2\n",
        "Name : Nidhi Gupta  \n",
        "Domain : Python"
      ],
      "metadata": {
        "id": "rof07ipMVDqH"
      }
    },
    {
      "cell_type": "markdown",
      "source": [
        "- Design a simple calculator with basic arithmetic operations.\n",
        "Prompt the user to input two numbers and an operation choice.\n",
        "\n",
        "- Perform the calculation and display the result."
      ],
      "metadata": {
        "id": "YE0rDyqUVhgS"
      }
    },
    {
      "cell_type": "code",
      "execution_count": null,
      "metadata": {
        "colab": {
          "base_uri": "https://localhost:8080/"
        },
        "id": "g3Tl8k2QUmCX",
        "outputId": "b8b1d4d5-79cc-4ade-d26d-c654a812fa65"
      },
      "outputs": [
        {
          "output_type": "stream",
          "name": "stdout",
          "text": [
            "Enter any operation from (+ - * /) : *\n",
            "Enter First number : 23\n",
            "Enter Second number : 66\n",
            "The multiplication of the two numbers is: 1518.0\n"
          ]
        }
      ],
      "source": [
        "operator = input(\"Enter any operation from (+ - * /) : \")\n",
        "num1 = float(input(\"Enter First number : \"))\n",
        "num2 = float(input(\"Enter Second number : \"))\n",
        "\n",
        "if operator == \"+\":\n",
        "    result = num1 + num2\n",
        "    print(\"The addition of the two numbers is:\", result)\n",
        "\n",
        "elif operator == \"-\":\n",
        "    result = num1 - num2\n",
        "    print(\"The subtraction of the two numbers is:\", result)\n",
        "\n",
        "elif operator == \"*\":\n",
        "    result = num1 * num2\n",
        "    print(\"The multiplication of the two numbers is:\", result)\n",
        "\n",
        "elif operator == \"/\":\n",
        "    if num2 != 0:\n",
        "        result = num1 / num2\n",
        "        print(\"The division of the first number by the second number is:\", result)\n",
        "    else:\n",
        "        print(\"Error: Division by zero is not allowed.\")\n",
        "\n",
        "else:\n",
        "    print(f\"'{operator}' is an invalid operator.\")\n"
      ]
    }
  ]
}